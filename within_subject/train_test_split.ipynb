{
 "cells": [
  {
   "cell_type": "code",
   "execution_count": 49,
   "id": "e05594a9",
   "metadata": {},
   "outputs": [],
   "source": [
    "import numpy as np"
   ]
  },
  {
   "cell_type": "code",
   "execution_count": 50,
   "id": "3b8c8fae",
   "metadata": {},
   "outputs": [
    {
     "name": "stdout",
     "output_type": "stream",
     "text": [
      "(4478, 8, 1000) (4478,)\n"
     ]
    }
   ],
   "source": [
    "pt = \"lzy\"\n",
    "X = np.load(f\"../preprocess/{pt}/X.npy\")\n",
    "y = np.load(f\"../preprocess/y.npy\")\n",
    "\n",
    "valid_mask = np.max(np.abs(X), axis=(1, 2)) < 1000\n",
    "X = X[valid_mask]\n",
    "y = y[valid_mask]\n",
    "\n",
    "print(X.shape, y.shape)"
   ]
  },
  {
   "cell_type": "code",
   "execution_count": 51,
   "id": "8207a084",
   "metadata": {},
   "outputs": [
    {
     "name": "stdout",
     "output_type": "stream",
     "text": [
      "lzy train: (3558, 8, 1000), (3558,)\n",
      "lzy val: (460, 8, 1000), (460,)\n",
      "lzy test: (460, 8, 1000), (460,)\n"
     ]
    }
   ],
   "source": [
    "# 假设 X.shape = (4724, 8, 1000)，y.shape = (4724,)\n",
    "X_train, y_train = [], []\n",
    "X_val, y_val = [], []\n",
    "X_test, y_test = [], []\n",
    "\n",
    "group_size = 200\n",
    "val_size = 20\n",
    "test_size = 20\n",
    "\n",
    "for i in range(0, len(X), group_size):\n",
    "    end = min(i + group_size, len(X))\n",
    "    group_indices = np.arange(i, end)\n",
    "\n",
    "    if end - i < 40:\n",
    "        continue\n",
    "\n",
    "    group_X = X[group_indices]\n",
    "    group_y = y[group_indices]\n",
    "\n",
    "\n",
    "    # 更新有效样本数量\n",
    "    if len(group_X) < 40:\n",
    "        continue\n",
    "\n",
    "    # 再重新划分索引\n",
    "    test_indices = np.arange(len(group_X))[-test_size:]\n",
    "    val_indices = np.arange(len(group_X))[-(test_size + val_size):-test_size]\n",
    "    train_indices = np.arange(len(group_X))[:-(test_size + val_size)]\n",
    "\n",
    "    X_train.append(group_X[train_indices])\n",
    "    y_train.append(group_y[train_indices])\n",
    "\n",
    "    X_val.append(group_X[val_indices])\n",
    "    y_val.append(group_y[val_indices])\n",
    "\n",
    "    X_test.append(group_X[test_indices])\n",
    "    y_test.append(group_y[test_indices])\n",
    "\n",
    "# 合并所有样本\n",
    "X_train = np.concatenate(X_train, axis=0)\n",
    "y_train = np.concatenate(y_train, axis=0)\n",
    "X_val = np.concatenate(X_val, axis=0)\n",
    "y_val = np.concatenate(y_val, axis=0)\n",
    "X_test = np.concatenate(X_test, axis=0)\n",
    "y_test = np.concatenate(y_test, axis=0)\n",
    "\n",
    "# 保存结果\n",
    "np.save(f\"{pt}/X_train.npy\", X_train)\n",
    "np.save(f\"{pt}/y_train.npy\", y_train)\n",
    "np.save(f\"{pt}/X_val.npy\", X_val)\n",
    "np.save(f\"{pt}/y_val.npy\", y_val)\n",
    "np.save(f\"{pt}/X_test.npy\", X_test)\n",
    "np.save(f\"{pt}/y_test.npy\", y_test)\n",
    "\n",
    "print(f\"{pt} train: {X_train.shape}, {y_train.shape}\")\n",
    "print(f\"{pt} val: {X_val.shape}, {y_val.shape}\")\n",
    "print(f\"{pt} test: {X_test.shape}, {y_test.shape}\")"
   ]
  }
 ],
 "metadata": {
  "kernelspec": {
   "display_name": "thesis",
   "language": "python",
   "name": "python3"
  },
  "language_info": {
   "codemirror_mode": {
    "name": "ipython",
    "version": 3
   },
   "file_extension": ".py",
   "mimetype": "text/x-python",
   "name": "python",
   "nbconvert_exporter": "python",
   "pygments_lexer": "ipython3",
   "version": "3.10.13"
  }
 },
 "nbformat": 4,
 "nbformat_minor": 5
}
