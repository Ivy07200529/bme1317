{
 "cells": [
  {
   "cell_type": "code",
   "execution_count": 5,
   "id": "cf7094f5",
   "metadata": {},
   "outputs": [],
   "source": [
    "import pandas as pd\n",
    "import glob\n",
    "import os"
   ]
  },
  {
   "cell_type": "code",
   "execution_count": 4,
   "id": "a6da7125",
   "metadata": {},
   "outputs": [
    {
     "name": "stdout",
     "output_type": "stream",
     "text": [
      "--- lrl ---\n",
      "             激动         开心\n",
      "max   10.000000  10.000000\n",
      "min    0.000000  -8.000000\n",
      "mean   2.900000   0.405556\n",
      "var    5.934078   8.812259\n",
      "--- lyf ---\n",
      "             激动         开心\n",
      "max   10.000000  10.000000\n",
      "min    0.000000  -8.000000\n",
      "mean   2.895028   0.414365\n",
      "var    5.905586   8.777348\n",
      "--- lzy ---\n",
      "            激动        开心\n",
      "max   9.000000  9.000000\n",
      "min   1.000000 -7.000000\n",
      "mean  3.176796  0.762431\n",
      "var   4.946347  8.471025\n"
     ]
    }
   ],
   "source": [
    "csv_dir = 'data'\n",
    "os.makedirs(csv_dir, exist_ok=True)\n",
    "csv_files = glob.glob(os.path.join(csv_dir, 'BBMW_score\\*.csv'))\n",
    "\n",
    "stats = {}\n",
    "\n",
    "for csv_file in csv_files:\n",
    "    name = os.path.basename(csv_file).split('.')[0]  # e.g., 'lrl'\n",
    "\n",
    "    df = pd.read_csv(csv_file)\n",
    "    df.columns = df.columns.str.strip()  # remove whitespace from headers\n",
    "\n",
    "    # 只保留“激动”和“开心”列\n",
    "    df_filtered = df[['激动', '开心']]\n",
    "    \n",
    "    df_standardized = (df_filtered - df_filtered.mean()) / df_filtered.std()\n",
    "\n",
    "    # 计算 max, min, mean, var\n",
    "    stat = df_filtered.agg(['max', 'min', 'mean', 'var'])\n",
    "    stats[name] = stat\n",
    "\n",
    "# 打印结果\n",
    "for name, stat in stats.items():\n",
    "    print(f\"--- {name} ---\")\n",
    "    print(stat)"
   ]
  }
 ],
 "metadata": {
  "kernelspec": {
   "display_name": "EEG_emotion",
   "language": "python",
   "name": "python3"
  },
  "language_info": {
   "codemirror_mode": {
    "name": "ipython",
    "version": 3
   },
   "file_extension": ".py",
   "mimetype": "text/x-python",
   "name": "python",
   "nbconvert_exporter": "python",
   "pygments_lexer": "ipython3",
   "version": "3.10.16"
  }
 },
 "nbformat": 4,
 "nbformat_minor": 5
}
