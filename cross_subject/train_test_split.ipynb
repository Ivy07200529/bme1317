{
 "cells": [
  {
   "cell_type": "code",
   "execution_count": 1,
   "id": "e05594a9",
   "metadata": {},
   "outputs": [],
   "source": [
    "import numpy as np"
   ]
  },
  {
   "cell_type": "code",
   "execution_count": 3,
   "id": "3b8c8fae",
   "metadata": {},
   "outputs": [],
   "source": [
    "def load_and_concatenate_data(subjects, data_dir=\"../preprocess\", y_file=\"y.npy\"):\n",
    "    \"\"\"\n",
    "    Load and concatenate EEG data from multiple subjects.\n",
    "\n",
    "    Parameters:\n",
    "        subjects (list of str): List of subject names (e.g., ['lzy', 'lyf']).\n",
    "        data_dir (str): Path to the preprocessing directory.\n",
    "        y_file (str): Filename for label data.\n",
    "        return_subject_labels (bool): Whether to return subject label array.\n",
    "\n",
    "    Returns:\n",
    "        X_all (ndarray): Concatenated EEG data.\n",
    "        y_all (ndarray): Concatenated labels.\n",
    "        subject_labels (ndarray, optional): Array of subject names per sample.\n",
    "    \"\"\"\n",
    "    X_list = []\n",
    "    y_list = []\n",
    "\n",
    "    for name in subjects:\n",
    "        X = np.load(f\"{data_dir}/{name}/X.npy\")\n",
    "        y = np.load(f\"{data_dir}/{y_file}\")\n",
    "\n",
    "        # Filter out invalid samples\n",
    "        valid_mask = np.max(np.abs(X), axis=(1, 2)) < 1000\n",
    "        X = X[valid_mask]\n",
    "        y = y[valid_mask]\n",
    "\n",
    "        X_list.append(X)\n",
    "        y_list.append(y)\n",
    "\n",
    "    X_all = np.concatenate(X_list, axis=0)\n",
    "    y_all = np.concatenate(y_list, axis=0)\n",
    "    return X_all, y_all"
   ]
  },
  {
   "cell_type": "code",
   "execution_count": 4,
   "id": "1123b644",
   "metadata": {},
   "outputs": [
    {
     "name": "stdout",
     "output_type": "stream",
     "text": [
      "(8962, 8, 1000) (8962,)\n"
     ]
    }
   ],
   "source": [
    "X, y = load_and_concatenate_data([\"lzy\", \"lyf\"])\n",
    "print(X.shape, y.shape)"
   ]
  },
  {
   "cell_type": "code",
   "execution_count": 5,
   "id": "8207a084",
   "metadata": {},
   "outputs": [
    {
     "name": "stdout",
     "output_type": "stream",
     "text": [
      "train: (7162, 8, 1000), (7162,)\n",
      "val: (900, 8, 1000), (900,)\n",
      "test: (900, 8, 1000), (900,)\n"
     ]
    }
   ],
   "source": [
    "# 假设 X.shape = (4724, 8, 1000)，y.shape = (4724,)\n",
    "X_train, y_train = [], []\n",
    "X_val, y_val = [], []\n",
    "X_test, y_test = [], []\n",
    "\n",
    "group_size = 200\n",
    "val_size = 20\n",
    "test_size = 20\n",
    "\n",
    "for i in range(0, len(X), group_size):\n",
    "    end = min(i + group_size, len(X))\n",
    "    group_indices = np.arange(i, end)\n",
    "\n",
    "    if end - i < 40:\n",
    "        continue\n",
    "\n",
    "    group_X = X[group_indices]\n",
    "    group_y = y[group_indices]\n",
    "\n",
    "\n",
    "    # 更新有效样本数量\n",
    "    if len(group_X) < 40:\n",
    "        continue\n",
    "\n",
    "    # 再重新划分索引\n",
    "    test_indices = np.arange(len(group_X))[-test_size:]\n",
    "    val_indices = np.arange(len(group_X))[-(test_size + val_size):-test_size]\n",
    "    train_indices = np.arange(len(group_X))[:-(test_size + val_size)]\n",
    "\n",
    "    X_train.append(group_X[train_indices])\n",
    "    y_train.append(group_y[train_indices])\n",
    "\n",
    "    X_val.append(group_X[val_indices])\n",
    "    y_val.append(group_y[val_indices])\n",
    "\n",
    "    X_test.append(group_X[test_indices])\n",
    "    y_test.append(group_y[test_indices])\n",
    "\n",
    "# 合并所有样本\n",
    "X_train = np.concatenate(X_train, axis=0)\n",
    "y_train = np.concatenate(y_train, axis=0)\n",
    "X_val = np.concatenate(X_val, axis=0)\n",
    "y_val = np.concatenate(y_val, axis=0)\n",
    "X_test = np.concatenate(X_test, axis=0)\n",
    "y_test = np.concatenate(y_test, axis=0)\n",
    "\n",
    "# 保存结果\n",
    "np.save(f\"X_train.npy\", X_train)\n",
    "np.save(f\"y_train.npy\", y_train)\n",
    "np.save(f\"X_val.npy\", X_val)\n",
    "np.save(f\"y_val.npy\", y_val)\n",
    "np.save(f\"X_test.npy\", X_test)\n",
    "np.save(f\"y_test.npy\", y_test)\n",
    "\n",
    "print(f\"train: {X_train.shape}, {y_train.shape}\")\n",
    "print(f\"val: {X_val.shape}, {y_val.shape}\")\n",
    "print(f\"test: {X_test.shape}, {y_test.shape}\")"
   ]
  }
 ],
 "metadata": {
  "kernelspec": {
   "display_name": "thesis",
   "language": "python",
   "name": "python3"
  },
  "language_info": {
   "codemirror_mode": {
    "name": "ipython",
    "version": 3
   },
   "file_extension": ".py",
   "mimetype": "text/x-python",
   "name": "python",
   "nbconvert_exporter": "python",
   "pygments_lexer": "ipython3",
   "version": "3.10.13"
  }
 },
 "nbformat": 4,
 "nbformat_minor": 5
}
