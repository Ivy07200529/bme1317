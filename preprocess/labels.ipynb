{
 "cells": [
  {
   "cell_type": "code",
   "execution_count": 41,
   "id": "396e6575",
   "metadata": {},
   "outputs": [],
   "source": [
    "import pandas as pd\n",
    "import numpy as np"
   ]
  },
  {
   "cell_type": "code",
   "execution_count": 42,
   "id": "bfe7e3ed",
   "metadata": {},
   "outputs": [],
   "source": [
    "labels_paths = [\"../data/积极1分数.xlsx\", \"../data/消极1分数.xlsx\", \"../data/积极2分数.xlsx\", \"../data/消极2分数.xlsx\"]"
   ]
  },
  {
   "cell_type": "code",
   "execution_count": 43,
   "id": "8d5411c1",
   "metadata": {},
   "outputs": [],
   "source": [
    "def add_label(label_path, name):\n",
    "    # 参数设定\n",
    "    fs = 250                 # 采样率\n",
    "    win_sec = 4              # 窗口长度（秒）\n",
    "    step_sec = 1             # 步长（秒）\n",
    "    label_interval = 4       # 原始标签每4秒一个\n",
    "    label_len_samples = fs * label_interval\n",
    "\n",
    "    labels = pd.read_excel(label_path, header=None).iloc[:, 1].to_numpy()\n",
    "\n",
    "    # 拓展标签的时间范围（总时长）\n",
    "    total_duration_sec = len(labels) * label_interval\n",
    "    n_windows = (total_duration_sec - win_sec) // step_sec + 1\n",
    "\n",
    "    # 创建新的窗口标签\n",
    "    new_labels = []\n",
    "\n",
    "    for i in range(n_windows):\n",
    "        start_time = i * step_sec\n",
    "        end_time = start_time + win_sec\n",
    "\n",
    "        # 计算该窗口涉及哪些原始标签\n",
    "        start_label_idx = start_time // label_interval\n",
    "        end_label_idx = (end_time - 1e-6) // label_interval  # 减1e-6避免整数边界误差\n",
    "\n",
    "        if start_label_idx == end_label_idx:\n",
    "            new_labels.append(labels[int(start_label_idx)])\n",
    "        else:\n",
    "            # 跨越两个标签\n",
    "            label1 = labels[int(start_label_idx)]\n",
    "            label2 = labels[int(end_label_idx)]\n",
    "\n",
    "            # 计算各自占比\n",
    "            label1_end_time = (start_label_idx + 1) * label_interval\n",
    "            label1_duration = label1_end_time - start_time\n",
    "            label2_duration = end_time - label1_end_time\n",
    "\n",
    "            weight1 = label1_duration / win_sec\n",
    "            weight2 = label2_duration / win_sec\n",
    "\n",
    "            weighted_avg = weight1 * label1 + weight2 * label2\n",
    "            new_labels.append(weighted_avg)\n",
    "\n",
    "    new_labels = np.array(new_labels)\n",
    "    print(new_labels.shape)\n",
    "    np.save(f\"./y{name}.npy\", new_labels)"
   ]
  },
  {
   "cell_type": "code",
   "execution_count": 44,
   "id": "c385e9cb",
   "metadata": {},
   "outputs": [
    {
     "name": "stdout",
     "output_type": "stream",
     "text": [
      "(1193,)\n",
      "(1193,)\n",
      "(1025,)\n",
      "(1313,)\n"
     ]
    }
   ],
   "source": [
    "for i in range(4):\n",
    "    add_label(labels_paths[i], str(i+1))"
   ]
  },
  {
   "cell_type": "code",
   "execution_count": 45,
   "id": "482e6532",
   "metadata": {},
   "outputs": [],
   "source": [
    "y1 = np.load(\"y1.npy\")\n",
    "y2 = np.load(\"y2.npy\")\n",
    "y3 = np.load(\"y3.npy\")\n",
    "y4 = np.load(\"y4.npy\")\n",
    "# y = np.concatenate((y1, y2, y3, y4))\n",
    "y = np.concatenate((y1[40:-20], y2[40:-20], y3[40:-20], y4[40:-20]))\n",
    "np.save(\"y.npy\", y)"
   ]
  }
 ],
 "metadata": {
  "kernelspec": {
   "display_name": "thesis",
   "language": "python",
   "name": "python3"
  },
  "language_info": {
   "codemirror_mode": {
    "name": "ipython",
    "version": 3
   },
   "file_extension": ".py",
   "mimetype": "text/x-python",
   "name": "python",
   "nbconvert_exporter": "python",
   "pygments_lexer": "ipython3",
   "version": "3.10.13"
  }
 },
 "nbformat": 4,
 "nbformat_minor": 5
}
