{
 "cells": [
  {
   "cell_type": "code",
   "execution_count": 1,
   "id": "01b829b0",
   "metadata": {},
   "outputs": [],
   "source": [
    "import pandas as pd\n",
    "import numpy as np\n",
    "from datetime import datetime"
   ]
  },
  {
   "cell_type": "code",
   "execution_count": 2,
   "id": "cd81338e",
   "metadata": {},
   "outputs": [],
   "source": [
    "txt_paths = [\"lzy\\OpenBCISession_2025-05-31_13-54-45\\OpenBCI-RAW-2025-05-31_13-55-36.txt\",\n",
    "\"lzy\\OpenBCISession_2025-05-31_14-19-39\\OpenBCI-RAW-2025-05-31_14-19-56.txt\",\n",
    "\"lzy\\OpenBCISession_2025-05-31_14-41-23\\OpenBCI-RAW-2025-05-31_14-41-40.txt\",\n",
    "\"lzy\\OpenBCISession_2025-05-31_14-59-52\\OpenBCI-RAW-2025-05-31_15-00-16.txt\"]\n",
    "times = [['00:09.300', '01:54.300', 1196],\n",
    "         ['00:46.600', '01:23.200', 1196],\n",
    "         ['00:29.000', '00:48.200', 1028],\n",
    "         ['00:07.200', '00:19.800', 1316]]"
   ]
  },
  {
   "cell_type": "code",
   "execution_count": 3,
   "id": "c06c1305",
   "metadata": {},
   "outputs": [],
   "source": [
    "def preprocess(txt_path, time, name):\n",
    "    data_path = \"../../data/\"\n",
    "    # Define file path\n",
    "    file_path = data_path + txt_path\n",
    "    \n",
    "    fmt = \"%M:%S.%f\"\n",
    "    t1 = datetime.strptime(time[0], fmt)\n",
    "    t2 = datetime.strptime(time[1], fmt)\n",
    "    t3 = time[2]\n",
    "\n",
    "    delta = (t2 - t1).total_seconds()\n",
    "\n",
    "    # 读取数据并跳过注释行\n",
    "    df = pd.read_csv(file_path, skiprows=4)\n",
    "    df.columns = df.columns.str.strip()\n",
    "    start_time = df['Timestamp'][1] - 2\n",
    "\n",
    "    # 筛选时间段\n",
    "    df_filtered = df[(df['Timestamp'] >= (start_time + delta)) & (df['Timestamp'] <= (start_time + delta + t3 + 0.1))]\n",
    "\n",
    "    # 指定要保留的通道列\n",
    "    channel_cols = [\n",
    "        'EXG Channel 0', 'EXG Channel 1', 'EXG Channel 2', 'EXG Channel 3',\n",
    "        'EXG Channel 4', 'EXG Channel 5', 'EXG Channel 6', 'EXG Channel 7', 'Timestamp'\n",
    "    ]\n",
    "\n",
    "    # 只保留这几列\n",
    "    df_channels = df_filtered[channel_cols]\n",
    "\n",
    "    # 转换为 numpy 数组\n",
    "    exg_array = df_channels.to_numpy()\n",
    "\n",
    "    print(exg_array.shape)\n",
    "    np.save(name + '.npy', exg_array)"
   ]
  },
  {
   "cell_type": "code",
   "execution_count": 4,
   "id": "a5bf8ad4",
   "metadata": {},
   "outputs": [
    {
     "name": "stdout",
     "output_type": "stream",
     "text": [
      "(299466, 9)\n",
      "(299470, 9)\n",
      "(257413, 9)\n",
      "(329515, 9)\n"
     ]
    }
   ],
   "source": [
    "for i in range(4):\n",
    "    preprocess(txt_paths[i], times[i], \"X\"+str(i+1))"
   ]
  }
 ],
 "metadata": {
  "kernelspec": {
   "display_name": "thesis",
   "language": "python",
   "name": "python3"
  },
  "language_info": {
   "codemirror_mode": {
    "name": "ipython",
    "version": 3
   },
   "file_extension": ".py",
   "mimetype": "text/x-python",
   "name": "python",
   "nbconvert_exporter": "python",
   "pygments_lexer": "ipython3",
   "version": "3.10.13"
  }
 },
 "nbformat": 4,
 "nbformat_minor": 5
}
